{
 "cells": [
  {
   "cell_type": "markdown",
   "metadata": {},
   "source": [
    "# Audiobooks Conversion Rate\n",
    "\n",
    "### Introduction\n",
    "Given 2 & 1/2 years of data from audiobook app., I created a ML algorithm to predict conversion rate of customers. Using this algorithm, advertising dollars spent on customers who are not likely to purchase again can be reduced. This saved money can be spent on advertising to new customers to create value and growth opportunities.\n",
    "\n",
    "**Note**<br>\n",
    "An interactive dashboard that shows the effect of reviews on sales and audiobook ratings is available at this web address: <br>\n",
    "https://public.tableau.com/profile/john.abounassar#!/vizhome/AudiobookConversions/Dashboard1\n",
    "\n",
    "### Data Summary\n",
    "You have a .csv summarizing the data. There are several variables including: \n",
    "* Customer ID\n",
    "* Book length overall (sum of the minute length of all purchases)\n",
    "* Book length avg (average length in minutes of all purchases)\n",
    "* Price paid_overall (sum of all purchases) \n",
    "* Price Paid avg (average of all purchases) \n",
    "* Review (a Boolean variable whether the customer left a review)\n",
    "* Review out of 10 (if the customer left a review, his/her review out of 10 \n",
    "* Total minutes listened\n",
    "* Completion (from 0 to 1)\n",
    "* Support requests (number of support requests; everything from forgotten password to assistance for using the App), and Last visited minus purchase date (in days).\n"
   ]
  },
  {
   "cell_type": "code",
   "execution_count": 1,
   "metadata": {},
   "outputs": [],
   "source": [
    "import numpy as np\n",
    "import pandas as pd\n",
    "import matplotlib.pyplot as plt\n",
    "import seaborn as sns\n",
    "import tensorflow as tf\n",
    "from sklearn.preprocessing import scale,StandardScaler,MinMaxScaler\n",
    "%matplotlib inline"
   ]
  },
  {
   "cell_type": "markdown",
   "metadata": {},
   "source": [
    "#### Load in the dataset\n",
    "Do some basic exploration to understand the data we're working with."
   ]
  },
  {
   "cell_type": "code",
   "execution_count": 2,
   "metadata": {},
   "outputs": [
    {
     "name": "stdout",
     "output_type": "stream",
     "text": [
      "<class 'pandas.core.frame.DataFrame'>\n",
      "RangeIndex: 14084 entries, 0 to 14083\n",
      "Data columns (total 12 columns):\n",
      " #   Column                             Non-Null Count  Dtype  \n",
      "---  ------                             --------------  -----  \n",
      " 0   ID                                 14084 non-null  int64  \n",
      " 1   Book Length Overall (mins)         14084 non-null  float64\n",
      " 2   Book Length Avg (mins)             14084 non-null  int64  \n",
      " 3   Price Avg                          14084 non-null  float64\n",
      " 4   Price Overall                      14084 non-null  float64\n",
      " 5   Review                             14084 non-null  int64  \n",
      " 6   Review 10/10                       14084 non-null  float64\n",
      " 7   Completion                         14084 non-null  float64\n",
      " 8   Minutes Listened                   14084 non-null  float64\n",
      " 9   Support Requests                   14084 non-null  int64  \n",
      " 10  Last visited Minus Purchase Dates  14084 non-null  int64  \n",
      " 11  Targets                            14084 non-null  int64  \n",
      "dtypes: float64(6), int64(6)\n",
      "memory usage: 1.3 MB\n"
     ]
    }
   ],
   "source": [
    "data = pd.read_csv('Audiobook data - raw.csv')\n",
    "X = data.drop(['Targets','ID'], axis=1)\n",
    "y = data['Targets']\n",
    "\n",
    "data.info()"
   ]
  },
  {
   "cell_type": "code",
   "execution_count": 3,
   "metadata": {
    "scrolled": false
   },
   "outputs": [
    {
     "data": {
      "text/html": [
       "<div>\n",
       "<style scoped>\n",
       "    .dataframe tbody tr th:only-of-type {\n",
       "        vertical-align: middle;\n",
       "    }\n",
       "\n",
       "    .dataframe tbody tr th {\n",
       "        vertical-align: top;\n",
       "    }\n",
       "\n",
       "    .dataframe thead th {\n",
       "        text-align: right;\n",
       "    }\n",
       "</style>\n",
       "<table border=\"1\" class=\"dataframe\">\n",
       "  <thead>\n",
       "    <tr style=\"text-align: right;\">\n",
       "      <th></th>\n",
       "      <th>ID</th>\n",
       "      <th>Book Length Overall (mins)</th>\n",
       "      <th>Book Length Avg (mins)</th>\n",
       "      <th>Price Avg</th>\n",
       "      <th>Price Overall</th>\n",
       "      <th>Review</th>\n",
       "      <th>Review 10/10</th>\n",
       "      <th>Completion</th>\n",
       "      <th>Minutes Listened</th>\n",
       "      <th>Support Requests</th>\n",
       "      <th>Last visited Minus Purchase Dates</th>\n",
       "      <th>Targets</th>\n",
       "    </tr>\n",
       "  </thead>\n",
       "  <tbody>\n",
       "    <tr>\n",
       "      <th>count</th>\n",
       "      <td>14084.000000</td>\n",
       "      <td>14084.000000</td>\n",
       "      <td>14084.000000</td>\n",
       "      <td>14084.000000</td>\n",
       "      <td>14084.000000</td>\n",
       "      <td>14084.000000</td>\n",
       "      <td>14084.000000</td>\n",
       "      <td>14084.000000</td>\n",
       "      <td>14084.000000</td>\n",
       "      <td>14084.000000</td>\n",
       "      <td>14084.000000</td>\n",
       "      <td>14084.000000</td>\n",
       "    </tr>\n",
       "    <tr>\n",
       "      <th>mean</th>\n",
       "      <td>16772.491551</td>\n",
       "      <td>1591.281685</td>\n",
       "      <td>1678.608634</td>\n",
       "      <td>7.102887</td>\n",
       "      <td>7.543805</td>\n",
       "      <td>0.160750</td>\n",
       "      <td>8.909795</td>\n",
       "      <td>0.125659</td>\n",
       "      <td>189.888983</td>\n",
       "      <td>0.070222</td>\n",
       "      <td>61.935033</td>\n",
       "      <td>0.158833</td>\n",
       "    </tr>\n",
       "    <tr>\n",
       "      <th>std</th>\n",
       "      <td>9691.807248</td>\n",
       "      <td>504.340663</td>\n",
       "      <td>654.838599</td>\n",
       "      <td>4.930525</td>\n",
       "      <td>5.560129</td>\n",
       "      <td>0.367313</td>\n",
       "      <td>0.643406</td>\n",
       "      <td>0.241206</td>\n",
       "      <td>371.084010</td>\n",
       "      <td>0.472157</td>\n",
       "      <td>88.207634</td>\n",
       "      <td>0.365533</td>\n",
       "    </tr>\n",
       "    <tr>\n",
       "      <th>min</th>\n",
       "      <td>2.000000</td>\n",
       "      <td>216.000000</td>\n",
       "      <td>216.000000</td>\n",
       "      <td>3.860000</td>\n",
       "      <td>3.860000</td>\n",
       "      <td>0.000000</td>\n",
       "      <td>1.000000</td>\n",
       "      <td>0.000000</td>\n",
       "      <td>0.000000</td>\n",
       "      <td>0.000000</td>\n",
       "      <td>0.000000</td>\n",
       "      <td>0.000000</td>\n",
       "    </tr>\n",
       "    <tr>\n",
       "      <th>25%</th>\n",
       "      <td>8368.000000</td>\n",
       "      <td>1188.000000</td>\n",
       "      <td>1188.000000</td>\n",
       "      <td>5.330000</td>\n",
       "      <td>5.330000</td>\n",
       "      <td>0.000000</td>\n",
       "      <td>8.910000</td>\n",
       "      <td>0.000000</td>\n",
       "      <td>0.000000</td>\n",
       "      <td>0.000000</td>\n",
       "      <td>0.000000</td>\n",
       "      <td>0.000000</td>\n",
       "    </tr>\n",
       "    <tr>\n",
       "      <th>50%</th>\n",
       "      <td>16711.500000</td>\n",
       "      <td>1620.000000</td>\n",
       "      <td>1620.000000</td>\n",
       "      <td>5.950000</td>\n",
       "      <td>6.070000</td>\n",
       "      <td>0.000000</td>\n",
       "      <td>8.910000</td>\n",
       "      <td>0.000000</td>\n",
       "      <td>0.000000</td>\n",
       "      <td>0.000000</td>\n",
       "      <td>11.000000</td>\n",
       "      <td>0.000000</td>\n",
       "    </tr>\n",
       "    <tr>\n",
       "      <th>75%</th>\n",
       "      <td>25187.250000</td>\n",
       "      <td>2160.000000</td>\n",
       "      <td>2160.000000</td>\n",
       "      <td>8.000000</td>\n",
       "      <td>8.000000</td>\n",
       "      <td>0.000000</td>\n",
       "      <td>8.910000</td>\n",
       "      <td>0.130000</td>\n",
       "      <td>194.400000</td>\n",
       "      <td>0.000000</td>\n",
       "      <td>105.000000</td>\n",
       "      <td>0.000000</td>\n",
       "    </tr>\n",
       "    <tr>\n",
       "      <th>max</th>\n",
       "      <td>33683.000000</td>\n",
       "      <td>2160.000000</td>\n",
       "      <td>7020.000000</td>\n",
       "      <td>130.940000</td>\n",
       "      <td>130.940000</td>\n",
       "      <td>1.000000</td>\n",
       "      <td>10.000000</td>\n",
       "      <td>1.000000</td>\n",
       "      <td>2160.000000</td>\n",
       "      <td>30.000000</td>\n",
       "      <td>464.000000</td>\n",
       "      <td>1.000000</td>\n",
       "    </tr>\n",
       "  </tbody>\n",
       "</table>\n",
       "</div>"
      ],
      "text/plain": [
       "                 ID  Book Length Overall (mins)  Book Length Avg (mins)  \\\n",
       "count  14084.000000                14084.000000            14084.000000   \n",
       "mean   16772.491551                 1591.281685             1678.608634   \n",
       "std     9691.807248                  504.340663              654.838599   \n",
       "min        2.000000                  216.000000              216.000000   \n",
       "25%     8368.000000                 1188.000000             1188.000000   \n",
       "50%    16711.500000                 1620.000000             1620.000000   \n",
       "75%    25187.250000                 2160.000000             2160.000000   \n",
       "max    33683.000000                 2160.000000             7020.000000   \n",
       "\n",
       "          Price Avg  Price Overall        Review  Review 10/10    Completion  \\\n",
       "count  14084.000000   14084.000000  14084.000000  14084.000000  14084.000000   \n",
       "mean       7.102887       7.543805      0.160750      8.909795      0.125659   \n",
       "std        4.930525       5.560129      0.367313      0.643406      0.241206   \n",
       "min        3.860000       3.860000      0.000000      1.000000      0.000000   \n",
       "25%        5.330000       5.330000      0.000000      8.910000      0.000000   \n",
       "50%        5.950000       6.070000      0.000000      8.910000      0.000000   \n",
       "75%        8.000000       8.000000      0.000000      8.910000      0.130000   \n",
       "max      130.940000     130.940000      1.000000     10.000000      1.000000   \n",
       "\n",
       "       Minutes Listened  Support Requests  Last visited Minus Purchase Dates  \\\n",
       "count      14084.000000      14084.000000                       14084.000000   \n",
       "mean         189.888983          0.070222                          61.935033   \n",
       "std          371.084010          0.472157                          88.207634   \n",
       "min            0.000000          0.000000                           0.000000   \n",
       "25%            0.000000          0.000000                           0.000000   \n",
       "50%            0.000000          0.000000                          11.000000   \n",
       "75%          194.400000          0.000000                         105.000000   \n",
       "max         2160.000000         30.000000                         464.000000   \n",
       "\n",
       "            Targets  \n",
       "count  14084.000000  \n",
       "mean       0.158833  \n",
       "std        0.365533  \n",
       "min        0.000000  \n",
       "25%        0.000000  \n",
       "50%        0.000000  \n",
       "75%        0.000000  \n",
       "max        1.000000  "
      ]
     },
     "execution_count": 3,
     "metadata": {},
     "output_type": "execute_result"
    }
   ],
   "source": [
    "data.describe()"
   ]
  },
  {
   "cell_type": "code",
   "execution_count": 4,
   "metadata": {},
   "outputs": [
    {
     "data": {
      "text/plain": [
       "Text(0.5, 1.0, 'Target Distribution')"
      ]
     },
     "execution_count": 4,
     "metadata": {},
     "output_type": "execute_result"
    },
    {
     "data": {
      "image/png": "[encoded data removed]",
      "text/plain": [
       "<Figure size 432x288 with 1 Axes>"
      ]
     },
     "metadata": {
      "needs_background": "light"
     },
     "output_type": "display_data"
    }
   ],
   "source": [
    "sns.countplot(data['Targets'])\n",
    "plt.title('Target Distribution')"
   ]
  },
  {
   "cell_type": "markdown",
   "metadata": {},
   "source": [
    "#### Prepping Data for Tensorflow\n",
    "* There is a clear discrepancy in the targets for the dataset, this won't do when training the model. We need a somewhat balanced dataset to produce an accurate model. Therefore, we will randomly remove datapoints to balance the dataset.\n",
    "* We will also normalize, shuffle and convert the data into numpy arrays."
   ]
  },
  {
   "cell_type": "code",
   "execution_count": 5,
   "metadata": {},
   "outputs": [],
   "source": [
    "#Balancing dataset so model is BALANCED (conversion rate = 50%). \n",
    "#Imbalance in the dataset would ruin the algorithm, therefore..\n",
    "#Using for loop and a counter to track which indices/observations need to be removed (when 0's > 1's)\n",
    "\n",
    "conv_targ = data['Targets'].sum()\n",
    "zero_targ_counter = 0\n",
    "indices_to_remove = []\n",
    "\n",
    "\n",
    "for i in range(y.shape[0]):\n",
    "    if y[i] == 0:\n",
    "        zero_targ_counter += 1\n",
    "        if zero_targ_counter > conv_targ:\n",
    "            indices_to_remove.append(i)"
   ]
  },
  {
   "cell_type": "code",
   "execution_count": 6,
   "metadata": {},
   "outputs": [
    {
     "data": {
      "text/plain": [
       "9610"
      ]
     },
     "execution_count": 6,
     "metadata": {},
     "output_type": "execute_result"
    }
   ],
   "source": [
    "#Number of datapoints to be removed\n",
    "len(indices_to_remove)"
   ]
  },
  {
   "cell_type": "code",
   "execution_count": 7,
   "metadata": {},
   "outputs": [
    {
     "data": {
      "text/plain": [
       "((4474,), (4474, 10))"
      ]
     },
     "execution_count": 7,
     "metadata": {},
     "output_type": "execute_result"
    }
   ],
   "source": [
    "#Balanced inputs/targets, drop indices\n",
    "X_balanced = X.drop(labels=indices_to_remove)\n",
    "y_balanced = y.drop(labels=indices_to_remove)\n",
    "\n",
    "y_balanced.shape, X_balanced.shape"
   ]
  },
  {
   "cell_type": "markdown",
   "metadata": {},
   "source": [
    "#### Shuffling the data"
   ]
  },
  {
   "cell_type": "code",
   "execution_count": 8,
   "metadata": {},
   "outputs": [],
   "source": [
    "shuffled_indices = np.array(list(y_balanced.index))\n",
    "np.random.shuffle(shuffled_indices)\n",
    "\n",
    "X_shuffled = X_balanced.reindex(shuffled_indices)\n",
    "y_shuffled = y_balanced.reindex(shuffled_indices)"
   ]
  },
  {
   "cell_type": "markdown",
   "metadata": {},
   "source": [
    "#### Standardizing Inputs"
   ]
  },
  {
   "cell_type": "code",
   "execution_count": 9,
   "metadata": {},
   "outputs": [
    {
     "data": {
      "text/plain": [
       "Int64Index([ 1969,    10,  7748,  9082,  1600,  1295,   140, 11433,  1859,\n",
       "            11545,\n",
       "            ...\n",
       "             1341,  4229, 13196, 12485,   172,  6741,  5391,  2324,   787,\n",
       "              715],\n",
       "           dtype='int64', length=4474)"
      ]
     },
     "execution_count": 9,
     "metadata": {},
     "output_type": "execute_result"
    }
   ],
   "source": [
    "X_shuffled.index"
   ]
  },
  {
   "cell_type": "code",
   "execution_count": 10,
   "metadata": {},
   "outputs": [],
   "source": [
    "#Note: This scaling function returns a the scaled data in a numpy array\n",
    "X_shuffled_array = scale(X_shuffled)"
   ]
  },
  {
   "cell_type": "markdown",
   "metadata": {},
   "source": [
    "#### Splitting the data into train, val and test"
   ]
  },
  {
   "cell_type": "code",
   "execution_count": 13,
   "metadata": {},
   "outputs": [],
   "source": [
    "samples_count = X_shuffled.shape[0]\n",
    "\n",
    "#Splitting number of observations into train,val,test - (80/10/10) split\n",
    "train_samples_count = int(0.8*samples_count)\n",
    "val_samples_count = int(0.1*samples_count)\n",
    "test_samples_count = samples_count - train_samples_count - val_samples_count\n",
    "\n",
    "#Remember to convert \n",
    "train_inputs = X_shuffled_array[:train_samples_count]\n",
    "train_targets = y_shuffled.values[:train_samples_count]\n",
    "\n",
    "val_inputs = X_shuffled_array[train_samples_count:train_samples_count + val_samples_count]\n",
    "val_targets = y_shuffled.values[train_samples_count:train_samples_count + val_samples_count]\n",
    "\n",
    "test_inputs = X_shuffled_array[train_samples_count + val_samples_count:]\n",
    "test_targets = y_shuffled.values[train_samples_count + val_samples_count:]"
   ]
  },
  {
   "cell_type": "markdown",
   "metadata": {},
   "source": [
    "## Creating the model"
   ]
  },
  {
   "cell_type": "code",
   "execution_count": 33,
   "metadata": {},
   "outputs": [],
   "source": [
    "input_layer = 10\n",
    "hidden_layer = 75\n",
    "output_layer = 2\n",
    "\n",
    "\n",
    "model = tf.keras.Sequential()\n",
    "model.add(tf.keras.layers.Dense(units = input_layer))\n",
    "model.add(tf.keras.layers.Dense(units = 100, activation = 'relu'))\n",
    "model.add(tf.keras.layers.Dense(units = 75, activation = 'relu'))\n",
    "model.add(tf.keras.layers.Dense(units = output_layer, activation = 'softmax'))\n",
    "\n",
    "\n",
    "model.compile(optimizer = 'adam', loss = 'sparse_categorical_crossentropy', metrics = ['accuracy'])"
   ]
  },
  {
   "cell_type": "code",
   "execution_count": 34,
   "metadata": {
    "scrolled": true
   },
   "outputs": [
    {
     "name": "stdout",
     "output_type": "stream",
     "text": [
      "Train on 3579 samples, validate on 447 samples\n",
      "Epoch 1/100\n",
      "3579/3579 [==============================] - 0s 138us/sample - loss: 0.5541 - accuracy: 0.6901 - val_loss: 0.4889 - val_accuracy: 0.7562\n",
      "Epoch 2/100\n",
      "3579/3579 [==============================] - 0s 26us/sample - loss: 0.4440 - accuracy: 0.7533 - val_loss: 0.4463 - val_accuracy: 0.7584\n",
      "Epoch 3/100\n",
      "3579/3579 [==============================] - 0s 27us/sample - loss: 0.3987 - accuracy: 0.7801 - val_loss: 0.4085 - val_accuracy: 0.7942\n",
      "Epoch 4/100\n",
      "3579/3579 [==============================] - 0s 30us/sample - loss: 0.3768 - accuracy: 0.7888 - val_loss: 0.3940 - val_accuracy: 0.7942\n",
      "Epoch 5/100\n",
      "3579/3579 [==============================] - 0s 27us/sample - loss: 0.3590 - accuracy: 0.8061 - val_loss: 0.3770 - val_accuracy: 0.8143\n",
      "Epoch 6/100\n",
      "3579/3579 [==============================] - 0s 27us/sample - loss: 0.3540 - accuracy: 0.7988 - val_loss: 0.3720 - val_accuracy: 0.8188\n",
      "Epoch 7/100\n",
      "3579/3579 [==============================] - 0s 38us/sample - loss: 0.3418 - accuracy: 0.8134 - val_loss: 0.3741 - val_accuracy: 0.8121\n",
      "Epoch 8/100\n",
      "3579/3579 [==============================] - 0s 28us/sample - loss: 0.3366 - accuracy: 0.8167 - val_loss: 0.3749 - val_accuracy: 0.8143\n",
      "Epoch 9/100\n",
      "3579/3579 [==============================] - 0s 28us/sample - loss: 0.3350 - accuracy: 0.8173 - val_loss: 0.3603 - val_accuracy: 0.8098\n",
      "Epoch 10/100\n",
      "3579/3579 [==============================] - 0s 27us/sample - loss: 0.3401 - accuracy: 0.8111 - val_loss: 0.3881 - val_accuracy: 0.8098\n",
      "Epoch 11/100\n",
      "3579/3579 [==============================] - 0s 26us/sample - loss: 0.3359 - accuracy: 0.8142 - val_loss: 0.3449 - val_accuracy: 0.8166\n",
      "Epoch 12/100\n",
      "3579/3579 [==============================] - 0s 27us/sample - loss: 0.3333 - accuracy: 0.8125 - val_loss: 0.3320 - val_accuracy: 0.8233\n",
      "Epoch 13/100\n",
      "3579/3579 [==============================] - 0s 37us/sample - loss: 0.3274 - accuracy: 0.8153 - val_loss: 0.3363 - val_accuracy: 0.8188\n",
      "Epoch 14/100\n",
      "3579/3579 [==============================] - 0s 29us/sample - loss: 0.3273 - accuracy: 0.8159 - val_loss: 0.3378 - val_accuracy: 0.8076\n",
      "Epoch 15/100\n",
      "3579/3579 [==============================] - 0s 25us/sample - loss: 0.3279 - accuracy: 0.8217 - val_loss: 0.3621 - val_accuracy: 0.7830\n"
     ]
    },
    {
     "data": {
      "text/plain": [
       "<tensorflow.python.keras.callbacks.History at 0x243b52c8488>"
      ]
     },
     "execution_count": 34,
     "metadata": {},
     "output_type": "execute_result"
    }
   ],
   "source": [
    "batch_size = 64\n",
    "max_epochs = 100\n",
    "\n",
    "early_stop = tf.keras.callbacks.EarlyStopping(patience = 3)\n",
    "\n",
    "model.fit(x = train_inputs,\n",
    "         y = train_targets,\n",
    "         batch_size = batch_size,\n",
    "         epochs = max_epochs,\n",
    "         verbose = 1,\n",
    "         callbacks = [early_stop],\n",
    "         validation_data = (val_inputs,val_targets)          \n",
    "         )"
   ]
  },
  {
   "cell_type": "code",
   "execution_count": 35,
   "metadata": {},
   "outputs": [
    {
     "name": "stdout",
     "output_type": "stream",
     "text": [
      "448/448 [==============================] - 0s 196us/sample - loss: 0.3427 - accuracy: 0.8192\n"
     ]
    }
   ],
   "source": [
    "test_loss, test_accuracy = model.evaluate(test_inputs, test_targets)"
   ]
  },
  {
   "cell_type": "code",
   "execution_count": 36,
   "metadata": {
    "scrolled": true
   },
   "outputs": [
    {
     "name": "stdout",
     "output_type": "stream",
     "text": [
      "\n",
      "Test loss: 0.34. Test accuracy: 81.92%\n"
     ]
    }
   ],
   "source": [
    "print('\\nTest loss: {0:.2f}. Test accuracy: {1:.2f}%'.format(test_loss, test_accuracy*100.))"
   ]
  },
  {
   "cell_type": "markdown",
   "metadata": {},
   "source": [
    "## Implementation of Algorithm\n",
    "We will focus on the test data in this section, considering that we have 448 buyers. We will use the model to calculate the potential savings on marketing dollars.\n",
    "\n",
    "**Assumptions**\n",
    "* On average a company spends somwhere from 6-10% of it's budget on marketing dollars. \n",
    "* Given a budget of 10000 USD that is evenly spent amongst potential return buyers.\n",
    "* The buyers from this section were from a one month period.\n",
    "* If the probability an individual will not buy again is below 0.50, they will not be targeted for marketing."
   ]
  },
  {
   "cell_type": "code",
   "execution_count": 46,
   "metadata": {},
   "outputs": [
    {
     "data": {
      "text/plain": [
       "195"
      ]
     },
     "execution_count": 46,
     "metadata": {},
     "output_type": "execute_result"
    }
   ],
   "source": [
    "predictions_probabilities = model.predict(test_inputs, batch_size = 64)\n",
    "\n",
    "def round_prob(probability):\n",
    "    predictions = []\n",
    "    for i in probability:\n",
    "        if i[0] < 0.500000:  \n",
    "            predictions.append(0)\n",
    "        else:\n",
    "            predictions.append(1)\n",
    "    return predictions\n",
    "\n",
    "predictions = round_prob(predictions_probabilities)\n",
    "\n",
    "#Get predictions into df\n",
    "users_likely_to_buy = X_shuffled[train_samples_count + val_samples_count:]\n",
    "users_likely_to_buy['users_likely_to_buy'] = predictions"
   ]
  },
  {
   "cell_type": "code",
   "execution_count": 49,
   "metadata": {},
   "outputs": [
    {
     "data": {
      "text/html": [
       "<div>\n",
       "<style scoped>\n",
       "    .dataframe tbody tr th:only-of-type {\n",
       "        vertical-align: middle;\n",
       "    }\n",
       "\n",
       "    .dataframe tbody tr th {\n",
       "        vertical-align: top;\n",
       "    }\n",
       "\n",
       "    .dataframe thead th {\n",
       "        text-align: right;\n",
       "    }\n",
       "</style>\n",
       "<table border=\"1\" class=\"dataframe\">\n",
       "  <thead>\n",
       "    <tr style=\"text-align: right;\">\n",
       "      <th></th>\n",
       "      <th>Book Length Overall (mins)</th>\n",
       "      <th>Book Length Avg (mins)</th>\n",
       "      <th>Price Avg</th>\n",
       "      <th>Price Overall</th>\n",
       "      <th>Review</th>\n",
       "      <th>Review 10/10</th>\n",
       "      <th>Completion</th>\n",
       "      <th>Minutes Listened</th>\n",
       "      <th>Support Requests</th>\n",
       "      <th>Last visited Minus Purchase Dates</th>\n",
       "      <th>users_likely_to_buy</th>\n",
       "    </tr>\n",
       "  </thead>\n",
       "  <tbody>\n",
       "    <tr>\n",
       "      <th>count</th>\n",
       "      <td>448.000000</td>\n",
       "      <td>448.000000</td>\n",
       "      <td>448.000000</td>\n",
       "      <td>448.000000</td>\n",
       "      <td>448.000000</td>\n",
       "      <td>448.000000</td>\n",
       "      <td>448.000000</td>\n",
       "      <td>448.000000</td>\n",
       "      <td>448.000000</td>\n",
       "      <td>448.000000</td>\n",
       "      <td>448.000000</td>\n",
       "    </tr>\n",
       "    <tr>\n",
       "      <th>mean</th>\n",
       "      <td>1510.553571</td>\n",
       "      <td>1747.767857</td>\n",
       "      <td>7.855089</td>\n",
       "      <td>9.086786</td>\n",
       "      <td>0.194196</td>\n",
       "      <td>8.894866</td>\n",
       "      <td>0.083884</td>\n",
       "      <td>113.339732</td>\n",
       "      <td>0.073661</td>\n",
       "      <td>82.520089</td>\n",
       "      <td>0.435268</td>\n",
       "    </tr>\n",
       "    <tr>\n",
       "      <th>std</th>\n",
       "      <td>532.389734</td>\n",
       "      <td>830.758032</td>\n",
       "      <td>5.169065</td>\n",
       "      <td>6.223348</td>\n",
       "      <td>0.396023</td>\n",
       "      <td>0.815197</td>\n",
       "      <td>0.204722</td>\n",
       "      <td>279.765448</td>\n",
       "      <td>0.322772</td>\n",
       "      <td>105.762765</td>\n",
       "      <td>0.496346</td>\n",
       "    </tr>\n",
       "    <tr>\n",
       "      <th>min</th>\n",
       "      <td>324.000000</td>\n",
       "      <td>324.000000</td>\n",
       "      <td>3.860000</td>\n",
       "      <td>3.860000</td>\n",
       "      <td>0.000000</td>\n",
       "      <td>4.000000</td>\n",
       "      <td>0.000000</td>\n",
       "      <td>0.000000</td>\n",
       "      <td>0.000000</td>\n",
       "      <td>0.000000</td>\n",
       "      <td>0.000000</td>\n",
       "    </tr>\n",
       "    <tr>\n",
       "      <th>25%</th>\n",
       "      <td>1188.000000</td>\n",
       "      <td>1188.000000</td>\n",
       "      <td>5.330000</td>\n",
       "      <td>5.330000</td>\n",
       "      <td>0.000000</td>\n",
       "      <td>8.910000</td>\n",
       "      <td>0.000000</td>\n",
       "      <td>0.000000</td>\n",
       "      <td>0.000000</td>\n",
       "      <td>0.000000</td>\n",
       "      <td>0.000000</td>\n",
       "    </tr>\n",
       "    <tr>\n",
       "      <th>50%</th>\n",
       "      <td>1620.000000</td>\n",
       "      <td>1620.000000</td>\n",
       "      <td>6.665000</td>\n",
       "      <td>7.990000</td>\n",
       "      <td>0.000000</td>\n",
       "      <td>8.910000</td>\n",
       "      <td>0.000000</td>\n",
       "      <td>0.000000</td>\n",
       "      <td>0.000000</td>\n",
       "      <td>22.000000</td>\n",
       "      <td>0.000000</td>\n",
       "    </tr>\n",
       "    <tr>\n",
       "      <th>75%</th>\n",
       "      <td>2160.000000</td>\n",
       "      <td>2160.000000</td>\n",
       "      <td>8.330000</td>\n",
       "      <td>10.130000</td>\n",
       "      <td>0.000000</td>\n",
       "      <td>8.910000</td>\n",
       "      <td>0.030000</td>\n",
       "      <td>58.590000</td>\n",
       "      <td>0.000000</td>\n",
       "      <td>163.250000</td>\n",
       "      <td>1.000000</td>\n",
       "    </tr>\n",
       "    <tr>\n",
       "      <th>max</th>\n",
       "      <td>2160.000000</td>\n",
       "      <td>5508.000000</td>\n",
       "      <td>80.000000</td>\n",
       "      <td>80.000000</td>\n",
       "      <td>1.000000</td>\n",
       "      <td>10.000000</td>\n",
       "      <td>1.000000</td>\n",
       "      <td>1987.200000</td>\n",
       "      <td>2.000000</td>\n",
       "      <td>371.000000</td>\n",
       "      <td>1.000000</td>\n",
       "    </tr>\n",
       "  </tbody>\n",
       "</table>\n",
       "</div>"
      ],
      "text/plain": [
       "       Book Length Overall (mins)  Book Length Avg (mins)   Price Avg  \\\n",
       "count                  448.000000              448.000000  448.000000   \n",
       "mean                  1510.553571             1747.767857    7.855089   \n",
       "std                    532.389734              830.758032    5.169065   \n",
       "min                    324.000000              324.000000    3.860000   \n",
       "25%                   1188.000000             1188.000000    5.330000   \n",
       "50%                   1620.000000             1620.000000    6.665000   \n",
       "75%                   2160.000000             2160.000000    8.330000   \n",
       "max                   2160.000000             5508.000000   80.000000   \n",
       "\n",
       "       Price Overall      Review  Review 10/10  Completion  Minutes Listened  \\\n",
       "count     448.000000  448.000000    448.000000  448.000000        448.000000   \n",
       "mean        9.086786    0.194196      8.894866    0.083884        113.339732   \n",
       "std         6.223348    0.396023      0.815197    0.204722        279.765448   \n",
       "min         3.860000    0.000000      4.000000    0.000000          0.000000   \n",
       "25%         5.330000    0.000000      8.910000    0.000000          0.000000   \n",
       "50%         7.990000    0.000000      8.910000    0.000000          0.000000   \n",
       "75%        10.130000    0.000000      8.910000    0.030000         58.590000   \n",
       "max        80.000000    1.000000     10.000000    1.000000       1987.200000   \n",
       "\n",
       "       Support Requests  Last visited Minus Purchase Dates  \\\n",
       "count        448.000000                         448.000000   \n",
       "mean           0.073661                          82.520089   \n",
       "std            0.322772                         105.762765   \n",
       "min            0.000000                           0.000000   \n",
       "25%            0.000000                           0.000000   \n",
       "50%            0.000000                          22.000000   \n",
       "75%            0.000000                         163.250000   \n",
       "max            2.000000                         371.000000   \n",
       "\n",
       "       users_likely_to_buy  \n",
       "count           448.000000  \n",
       "mean              0.435268  \n",
       "std               0.496346  \n",
       "min               0.000000  \n",
       "25%               0.000000  \n",
       "50%               0.000000  \n",
       "75%               1.000000  \n",
       "max               1.000000  "
      ]
     },
     "execution_count": 49,
     "metadata": {},
     "output_type": "execute_result"
    }
   ],
   "source": [
    "users_likely_to_buy.describe()"
   ]
  },
  {
   "cell_type": "markdown",
   "metadata": {},
   "source": [
    "**Potential Savings**<br>\n",
    "For a single month, if this algorithm were to be implemented, we would have a savings of \n",
    "\n",
    "This can be found by comparing an ignorant marketing strategy (targeting everybody) vs the algorithms choices and finding the differenct in $ spent. Assuming the budget was 10000 USD, we'd have 10000 to spend on 448 people, which is approximately 22.32 dollars/person.\n",
    "\n",
    "By using the targeted marketing strategy, we could spend the same amount per person and save 5647.32 dollars. This money could be used to target new potential buyers or increase the quality of marketing products used to target our returning customers."
   ]
  }
 ],
 "metadata": {
  "kernelspec": {
   "display_name": "Python [conda env:py3-TF2.0]",
   "language": "python",
   "name": "conda-env-py3-TF2.0-py"
  },
  "language_info": {
   "codemirror_mode": {
    "name": "ipython",
    "version": 3
   },
   "file_extension": ".py",
   "mimetype": "text/x-python",
   "name": "python",
   "nbconvert_exporter": "python",
   "pygments_lexer": "ipython3",
   "version": "3.7.7"
  }
 },
 "nbformat": 4,
 "nbformat_minor": 4
}
